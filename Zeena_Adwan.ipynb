{
  "nbformat": 4,
  "nbformat_minor": 0,
  "metadata": {
    "colab": {
      "name": "Zeena Adwan.ipynb",
      "private_outputs": true,
      "provenance": [],
      "collapsed_sections": [],
      "toc_visible": true,
      "include_colab_link": true
    },
    "kernelspec": {
      "name": "python3",
      "display_name": "Python 3"
    }
  },
  "cells": [
    {
      "cell_type": "markdown",
      "metadata": {
        "id": "view-in-github",
        "colab_type": "text"
      },
      "source": [
        "<a href=\"https://colab.research.google.com/github/zadwan/Graduate_Admissions/blob/master/Zeena_Adwan.ipynb\" target=\"_parent\"><img src=\"https://colab.research.google.com/assets/colab-badge.svg\" alt=\"Open In Colab\"/></a>"
      ]
    },
    {
      "cell_type": "markdown",
      "metadata": {
        "id": "ejFjdOvXO8uF"
      },
      "source": [
        "#### **1. Read in the three csv files as data frames. Combine all three data frames using admission_id into one named all_df, retaining all rows from Admissions.csv.**"
      ]
    },
    {
      "cell_type": "code",
      "metadata": {
        "id": "94Z-DWtqOtZg"
      },
      "source": [
        "import pandas as pd"
      ],
      "execution_count": null,
      "outputs": []
    },
    {
      "cell_type": "code",
      "metadata": {
        "id": "g03sL_jIPGWM"
      },
      "source": [
        "# Reading the 3 csv files.\n",
        "admission = pd.read_csv(\"Admissions.csv\")\n",
        "lab = pd.read_csv(\"Lab.csv\")\n",
        "transfusions = pd.read_csv(\"Transfusions.csv\")"
      ],
      "execution_count": null,
      "outputs": []
    },
    {
      "cell_type": "code",
      "metadata": {
        "id": "fLN7NRTwPhID"
      },
      "source": [
        "# Displaying the first 5 rows in each file.\n",
        "display(admission.head())\n",
        "display(lab.head())\n",
        "display(transfusions.head())"
      ],
      "execution_count": null,
      "outputs": []
    },
    {
      "cell_type": "code",
      "metadata": {
        "id": "6dwJcUkkRkvy"
      },
      "source": [
        "# Dimensions of each file.\n",
        "print(admission.shape)\n",
        "print(lab.shape)\n",
        "print(transfusions.shape)"
      ],
      "execution_count": null,
      "outputs": []
    },
    {
      "cell_type": "code",
      "metadata": {
        "id": "uRhiWdinPjPM"
      },
      "source": [
        "# Merging all 3 files into one dataframe (all_df).\n",
        "all_df = admission.set_index('admission_id').join(lab.set_index('admission_id')).join(transfusions.set_index('admission_id'))"
      ],
      "execution_count": null,
      "outputs": []
    },
    {
      "cell_type": "code",
      "metadata": {
        "id": "RCq0hipFRuUd"
      },
      "source": [
        "# Shape and the first 5 rows of the new merged dataframe.\n",
        "print(f'Shape of merged DataFrame: {all_df.shape}')\n",
        "display(all_df.head())"
      ],
      "execution_count": null,
      "outputs": []
    },
    {
      "cell_type": "markdown",
      "metadata": {
        "id": "GnZSBjhESQY6"
      },
      "source": [
        "#### **2. Impute the missing age and charlson_comorbidity_index values in any way you see fit. Briefly explain how the imputation method(s) might affect a statistical model that uses these variables as predictors.**"
      ]
    },
    {
      "cell_type": "code",
      "metadata": {
        "id": "vkd6_UdoSUOl"
      },
      "source": [
        "# Info about each column to see the columns that have null values.\n",
        "all_df.info()"
      ],
      "execution_count": null,
      "outputs": []
    },
    {
      "cell_type": "code",
      "metadata": {
        "id": "BJqSiz9ISd-p"
      },
      "source": [
        "# Statistics of the numerical columns.\n",
        "all_df.describe()"
      ],
      "execution_count": null,
      "outputs": []
    },
    {
      "cell_type": "code",
      "metadata": {
        "id": "QBjIxB-rSotZ"
      },
      "source": [
        "# Filling the missing values in the age column with the mean the range of\n",
        "# the values is compact. (filling with the median might also work but the mode isn't\n",
        "# as practical here). Also, dropping the rows that has missing age values is fine.\n",
        "all_df.age.fillna(all_df.age.mean(), inplace=True)"
      ],
      "execution_count": null,
      "outputs": []
    },
    {
      "cell_type": "code",
      "metadata": {
        "id": "14TiJn4uS0fS"
      },
      "source": [
        "# Invistegating the unique values of the charlson_comorbidity_index.\n",
        "all_df.charlson_comorbidity_index.unique()"
      ],
      "execution_count": null,
      "outputs": []
    },
    {
      "cell_type": "code",
      "metadata": {
        "id": "5pnSXFkVTB2A"
      },
      "source": [
        "# Replacing '2+' with '2' to convert the string numbers into integer numbers.\n",
        "all_df.charlson_comorbidity_index.replace('2+', '2', inplace=True)\n",
        "all_df.charlson_comorbidity_index.unique()"
      ],
      "execution_count": null,
      "outputs": []
    },
    {
      "cell_type": "code",
      "metadata": {
        "id": "8Nl9gJTlTP9_"
      },
      "source": [
        "# Filling the missing cells of \"charlson_comorbidity_index\" with the mean value=1.\n",
        "all_df.charlson_comorbidity_index.fillna('1', inplace=True)\n",
        "all_df.charlson_comorbidity_index.unique()"
      ],
      "execution_count": null,
      "outputs": []
    },
    {
      "cell_type": "markdown",
      "metadata": {
        "id": "N2PXBtZaTwVZ"
      },
      "source": [
        "#### **3. Determine if there is a significant difference in age between patients who had an rbc_transfusion and patients that did not. Determine if there is a significant difference in sex between these groups.**"
      ]
    },
    {
      "cell_type": "markdown",
      "metadata": {
        "id": "aoPNsubHVwZ-"
      },
      "source": [
        "**A)** For age:  \n",
        "I will assume a p-value threshold=0.05 (5%) and the following hypotheses:  \n",
        "\n",
        "**Null Hypothesis:** Patients who had an rbc_transfusion are the same average age as people who didn't.  \n",
        "**Alternative Hypothesis:** Patients who had an rbc_transfusion have different average age than people who didn't."
      ]
    },
    {
      "cell_type": "code",
      "metadata": {
        "id": "CQwU0AgyUBMp"
      },
      "source": [
        "# Investigating the unique values of \"rbc_transfusion\".\n",
        "all_df.rbc_transfusion.unique()"
      ],
      "execution_count": null,
      "outputs": []
    },
    {
      "cell_type": "code",
      "metadata": {
        "id": "Xq3snX52TWNE"
      },
      "source": [
        "# Grouping the people that have \"rbc_transfusion\" and those who don't.\n",
        "A_age = all_df[all_df['rbc_transfusion']==True]['age'].values.tolist()\n",
        "B_age = all_df[all_df['rbc_transfusion']==False]['age'].values.tolist()"
      ],
      "execution_count": null,
      "outputs": []
    },
    {
      "cell_type": "code",
      "metadata": {
        "id": "lTSrRYcYT2Y2"
      },
      "source": [
        "# Performing T-test for the means of two independent samples of scores.\n",
        "from scipy import stats\n",
        "t_check = stats.ttest_ind(A_age, B_age)\n",
        "print(f\"P-value= {t_check[1]}\")"
      ],
      "execution_count": null,
      "outputs": []
    },
    {
      "cell_type": "markdown",
      "metadata": {
        "id": "Ef6sde_pW60d"
      },
      "source": [
        "Since the p-value of the test < 0.05, we reject the null hypothesis of equal averages. (There is a significant difference between the average age of people who had an rbc_transfusion and those who didn't)."
      ]
    },
    {
      "cell_type": "markdown",
      "metadata": {
        "id": "qxF3-hD3ZB18"
      },
      "source": [
        "**B)** For sex:  \n",
        "I will assume a p-value threshold=0.05 (5%) and the following hypotheses:  \n",
        "\n",
        "**Null Hypothesis:** Patients who had an rbc_transfusion are the same sex as people who didn't.  \n",
        "**Alternative Hypothesis:** Patients who had an rbc_transfusion have different sex than people who didn't."
      ]
    },
    {
      "cell_type": "code",
      "metadata": {
        "id": "myGeDSZqYzV8"
      },
      "source": [
        "all_df.sex.unique()"
      ],
      "execution_count": null,
      "outputs": []
    },
    {
      "cell_type": "code",
      "metadata": {
        "id": "TTFN19ysYCLf"
      },
      "source": [
        "all_df['sex'].replace(['F','M'],[0,1],inplace=True)"
      ],
      "execution_count": null,
      "outputs": []
    },
    {
      "cell_type": "code",
      "metadata": {
        "id": "pX-cvI5sXzot"
      },
      "source": [
        "A_sex = all_df[all_df['rbc_transfusion']==True]['sex'].values.tolist()\n",
        "B_sex = all_df[all_df['rbc_transfusion']==False]['sex'].values.tolist()"
      ],
      "execution_count": null,
      "outputs": []
    },
    {
      "cell_type": "code",
      "metadata": {
        "id": "QfX0_HVIX-l8"
      },
      "source": [
        "from scipy import stats\n",
        "t_check = stats.ttest_ind(A_sex, B_sex)\n",
        "print(f\"P-value = {t_check[1]}\")"
      ],
      "execution_count": null,
      "outputs": []
    },
    {
      "cell_type": "markdown",
      "metadata": {
        "id": "L7BioVmTZML8"
      },
      "source": [
        "Since the p-value of the test > 0.05, we failed to reject the null hypothesis of equal averages. (There is no significant difference between the sex of people who had an rbc_transfusion and those who didn't)."
      ]
    },
    {
      "cell_type": "markdown",
      "metadata": {
        "id": "PNQPwNJ7Zed7"
      },
      "source": [
        "#### 4. Fit a linear regression model using the result_value of the “Platelet Count” lab tests as the dependent variable and age, sex, and hospital as the independent variables. Interpret the results."
      ]
    },
    {
      "cell_type": "code",
      "metadata": {
        "id": "xiQ4UcPbY3e0"
      },
      "source": [
        "# Getting the rows that has test_name = \"Platelet Count\".\n",
        "platelet_df = all_df[all_df.test_name == \"Platelet Count\"]"
      ],
      "execution_count": null,
      "outputs": []
    },
    {
      "cell_type": "code",
      "metadata": {
        "id": "RBNqNYfraBTD"
      },
      "source": [
        "# Statistics of the result_value.\n",
        "platelet_df.result_value.describe()"
      ],
      "execution_count": null,
      "outputs": []
    },
    {
      "cell_type": "code",
      "metadata": {
        "id": "cgEiIHA0afZt"
      },
      "source": [
        "# Selecting the wanted columns.\n",
        "reg_df = platelet_df[['age', 'sex', 'hospital']]\n",
        "reg_df.head()"
      ],
      "execution_count": null,
      "outputs": []
    },
    {
      "cell_type": "code",
      "metadata": {
        "id": "XQjdwvwQbeQP"
      },
      "source": [
        "reg_df.hospital.unique()"
      ],
      "execution_count": null,
      "outputs": []
    },
    {
      "cell_type": "code",
      "metadata": {
        "id": "MBFI-KRQbLoU"
      },
      "source": [
        "# Performing one-hot-encoding on the \"hospital\" column.\n",
        "X = pd.concat([reg_df, pd.get_dummies(reg_df.hospital)], axis=1)"
      ],
      "execution_count": null,
      "outputs": []
    },
    {
      "cell_type": "code",
      "metadata": {
        "id": "LLBFsxflcgtJ"
      },
      "source": [
        "X.drop(['hospital'], axis=1, inplace=True)"
      ],
      "execution_count": null,
      "outputs": []
    },
    {
      "cell_type": "code",
      "metadata": {
        "id": "jvkTIVZWdQYZ"
      },
      "source": [
        "X.head()"
      ],
      "execution_count": null,
      "outputs": []
    },
    {
      "cell_type": "code",
      "metadata": {
        "id": "vGdH3jEdc3Ox"
      },
      "source": [
        "y = platelet_df.result_value"
      ],
      "execution_count": null,
      "outputs": []
    },
    {
      "cell_type": "code",
      "metadata": {
        "id": "ppl76DYXclbu"
      },
      "source": [
        "print(X.shape)\n",
        "print(y.shape)"
      ],
      "execution_count": null,
      "outputs": []
    },
    {
      "cell_type": "code",
      "metadata": {
        "id": "URLLLbj_ctjh"
      },
      "source": [
        "from sklearn.linear_model import LinearRegression\n",
        "from sklearn.model_selection import train_test_split"
      ],
      "execution_count": null,
      "outputs": []
    },
    {
      "cell_type": "code",
      "metadata": {
        "id": "-JNh8B4MczMg"
      },
      "source": [
        "# Splitting into train and test sets (80% to 20%).\n",
        "X_train, X_test, y_train, y_test = train_test_split(X, y, test_size=0.20, random_state=0)"
      ],
      "execution_count": null,
      "outputs": []
    },
    {
      "cell_type": "code",
      "metadata": {
        "id": "deYKfXiJdWlj"
      },
      "source": [
        "# Training the model.\n",
        "reg = LinearRegression().fit(X_train, y_train)"
      ],
      "execution_count": null,
      "outputs": []
    },
    {
      "cell_type": "code",
      "metadata": {
        "id": "uPYD201YdmVi"
      },
      "source": [
        "# Testing the model.\n",
        "print(f\"R^2 score: {reg.score(X_test, y_test)}\")"
      ],
      "execution_count": null,
      "outputs": []
    },
    {
      "cell_type": "markdown",
      "metadata": {
        "id": "3Jov7ogFeF1p"
      },
      "source": [
        "The R^2 is too low which means there is no stron correlation between the dependent variable (result_value) and the independent variables (age, sex, and hospital)."
      ]
    },
    {
      "cell_type": "markdown",
      "metadata": {
        "id": "jZTLKWRgebxu"
      },
      "source": [
        "#### **5. Create a plot that demonstrates the relationship between length_of_stay (discharge date and time minus admission date and time) and charlson_comorbidity_index. Briefly describe how you would change the visualization to add age as a third variable.**"
      ]
    },
    {
      "cell_type": "markdown",
      "metadata": {
        "id": "j5ts_avro_2s"
      },
      "source": [
        "# New Section"
      ]
    },
    {
      "cell_type": "code",
      "metadata": {
        "id": "MzK27cUfiKf_"
      },
      "source": [
        "all_df.head()"
      ],
      "execution_count": null,
      "outputs": []
    },
    {
      "cell_type": "code",
      "metadata": {
        "id": "mzkk3baRiHXE"
      },
      "source": [
        "adm = pd.to_datetime(all_df['admission_date'] + ' ' + all_df['admission_time'])\n",
        "dis = pd.to_datetime(all_df['discharge_date'] + ' ' + all_df['discharge_time'])"
      ],
      "execution_count": null,
      "outputs": []
    },
    {
      "cell_type": "code",
      "metadata": {
        "id": "VrR2WfmyjrtS"
      },
      "source": [
        "length_of_stay = (dis - adm).dt.components['minutes'].dropna()"
      ],
      "execution_count": null,
      "outputs": []
    },
    {
      "cell_type": "code",
      "metadata": {
        "id": "Q071BDwtk4QT"
      },
      "source": [
        "all_df.charlson_comorbidity_index"
      ],
      "execution_count": null,
      "outputs": []
    },
    {
      "cell_type": "code",
      "metadata": {
        "id": "BWgbMi0RkTGb"
      },
      "source": [
        "%matplotlib inline\n",
        "import pandas as pd\n",
        "import numpy as np\n",
        "import matplotlib.pyplot as plt\n",
        "\n",
        "df = pd.DataFrame({'time':length_of_stay,'data':len(all_df.charlson_comorbidity_index)})\n",
        "df = df.set_index('time')\n",
        "df.plot(yticks=[0,1],ylim=[-0.1,1.1])"
      ],
      "execution_count": null,
      "outputs": []
    },
    {
      "cell_type": "markdown",
      "metadata": {
        "id": "t8ikEs3ofJBR"
      },
      "source": [
        "6. **Fit a statistical model of your choosing to predict the result_value of the “Hemoglobin” lab tests and evaluate its performance. Explain your choices and how you might improve the model if you had to iterate on it. What other clinical variables would you be interested in adding to the model (they don’t have to be in the provided datasets)?**"
      ]
    },
    {
      "cell_type": "code",
      "metadata": {
        "id": "p0GlIvPQfTR-"
      },
      "source": [
        "hemoglobin_df = all_df[all_df.test_name == \"Hemoglobin\"]"
      ],
      "execution_count": null,
      "outputs": []
    },
    {
      "cell_type": "code",
      "metadata": {
        "id": "gP5yFprtgSuh"
      },
      "source": [
        "hemoglobin_df"
      ],
      "execution_count": null,
      "outputs": []
    },
    {
      "cell_type": "code",
      "metadata": {
        "id": "WAb-dn9XgYEt"
      },
      "source": [
        "# Converting True and False data to 0 and 1.\n",
        "hemoglobin_df.charlson_comorbidity_index = hemoglobin_df.charlson_comorbidity_index.astype(int)"
      ],
      "execution_count": null,
      "outputs": []
    },
    {
      "cell_type": "code",
      "metadata": {
        "id": "9wsL9NL7eEx8"
      },
      "source": [
        "# Investigating the correlation between the numeric columns and the \"result_value\" column.\n",
        "import seaborn as sns\n",
        "import matplotlib.pyplot as plt\n",
        "\n",
        "corr = hemoglobin_df.corr()[['result_value']]\n",
        "sns.heatmap(corr, cmap=\"YlGnBu\", annot=True)\n",
        "plt.show()"
      ],
      "execution_count": null,
      "outputs": []
    },
    {
      "cell_type": "code",
      "metadata": {
        "id": "bw4sHHdLgCLH"
      },
      "source": [
        "# Selecting the 2 highest correlated columns.\n",
        "X_hemo = hemoglobin_df[['sex', 'charlson_comorbidity_index']]"
      ],
      "execution_count": null,
      "outputs": []
    },
    {
      "cell_type": "code",
      "metadata": {
        "id": "5ly1RA2AgKGW"
      },
      "source": [
        "y_hemo = hemoglobin_df.result_value"
      ],
      "execution_count": null,
      "outputs": []
    },
    {
      "cell_type": "code",
      "metadata": {
        "id": "aMgo6tqLhspJ"
      },
      "source": [
        "X_train, X_test, y_train, y_test = train_test_split(X_hemo, y_hemo, test_size=0.20, random_state=0)"
      ],
      "execution_count": null,
      "outputs": []
    },
    {
      "cell_type": "code",
      "metadata": {
        "id": "XLe3o055hwzQ"
      },
      "source": [
        "reg = LinearRegression().fit(X_train, y_train)\n",
        "print(f\"R^2 score: {reg.score(X_test, y_test)}\")"
      ],
      "execution_count": null,
      "outputs": []
    },
    {
      "cell_type": "markdown",
      "metadata": {
        "id": "CYTvnEJnh4-H"
      },
      "source": [
        "The R^2 is too low which means there is no stron correlation between the dependent variable (result_value) and the independent variables (sex, and charlson_comorbidity_index)."
      ]
    }
  ]
}